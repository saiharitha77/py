{
 "cells": [
  {
   "cell_type": "markdown",
   "metadata": {},
   "source": [
    "# Python Introduction\n",
    "## Python Introduction\n",
    "### Python Introduction\n",
    "#### Python Introduction\n",
    "##### Python Introduction\n",
    "###### Python Introduction\n",
    "\n",
    "\n",
    "**Bold Text**\n",
    "- Option1\n",
    "- Option2\n"
   ]
  },
  {
   "cell_type": "code",
   "execution_count": 4,
   "metadata": {},
   "outputs": [
    {
     "name": "stdout",
     "output_type": "stream",
     "text": [
      "Hello Intro to Python\n"
     ]
    }
   ],
   "source": [
    "print(\"Hello Intro to Python\")"
   ]
  },
  {
   "cell_type": "markdown",
   "metadata": {},
   "source": [
    "### Python Introduction\n",
    "- Python Object oriented\n",
    "- Function Programming\n",
    "- Python Scripting Programming\n",
    "- Python 3.7"
   ]
  },
  {
   "cell_type": "code",
   "execution_count": 8,
   "metadata": {},
   "outputs": [
    {
     "name": "stdout",
     "output_type": "stream",
     "text": [
      "Hello Python Object Oriented Programming\n"
     ]
    }
   ],
   "source": [
    "print(\"Hello Python\",end=\" \")\n",
    "print(\"Object Oriented Programming\")"
   ]
  },
  {
   "cell_type": "markdown",
   "metadata": {},
   "source": [
    "### Python Data types\n",
    "- int\n",
    "- strting\n",
    "- float"
   ]
  },
  {
   "cell_type": "code",
   "execution_count": 16,
   "metadata": {},
   "outputs": [
    {
     "name": "stdout",
     "output_type": "stream",
     "text": [
      "10000000000000\n",
      "Python Programming\n",
      "100000.44545129892\n",
      "<class 'int'>\n",
      "<class 'str'>\n",
      "<class 'float'>\n"
     ]
    }
   ],
   "source": [
    "a = 10000000000000\n",
    "str = \"Python Programming\"\n",
    "a1 = 100000.44545129892132\n",
    "print(a)\n",
    "print(str)\n",
    "print(a1)\n",
    "print(type(a))\n",
    "print(type(str))\n",
    "print(type(a1))"
   ]
  },
  {
   "cell_type": "markdown",
   "metadata": {},
   "source": [
    "### Python Data type Conversions\n",
    "- int()\n",
    "- str()\n",
    "- float()\n",
    "    - Options\n"
   ]
  },
  {
   "cell_type": "code",
   "execution_count": 26,
   "metadata": {},
   "outputs": [
    {
     "name": "stdout",
     "output_type": "stream",
     "text": [
      "<class 'float'>\n",
      "<class 'float'>\n"
     ]
    }
   ],
   "source": [
    "a = 100.123\n",
    "print(type(a))\n",
    "i = float(a)\n",
    "print(type(i))\n",
    "s1 = str(i)\n",
    "print(type(s1))"
   ]
  },
  {
   "cell_type": "code",
   "execution_count": 28,
   "metadata": {},
   "outputs": [
    {
     "name": "stdout",
     "output_type": "stream",
     "text": [
      "<class 'str'>\n",
      "<class 'int'>\n"
     ]
    }
   ],
   "source": [
    "s1 = \"100\"\n",
    "print(type(s1))\n",
    "i = int(s1)\n",
    "print(type(i))"
   ]
  },
  {
   "cell_type": "markdown",
   "metadata": {},
   "source": [
    "### Read a number and find the count of digits in the number\n",
    "- 145   3\n",
    "- 1889  4"
   ]
  },
  {
   "cell_type": "code",
   "execution_count": 36,
   "metadata": {},
   "outputs": [
    {
     "ename": "TypeError",
     "evalue": "'str' object is not callable",
     "output_type": "error",
     "traceback": [
      "\u001b[1;31m---------------------------------------------------------------------------\u001b[0m",
      "\u001b[1;31mTypeError\u001b[0m                                 Traceback (most recent call last)",
      "\u001b[1;32m<ipython-input-36-69941f6ef3eb>\u001b[0m in \u001b[0;36m<module>\u001b[1;34m\u001b[0m\n\u001b[0;32m      1\u001b[0m \u001b[0ma\u001b[0m \u001b[1;33m=\u001b[0m \u001b[1;36m145\u001b[0m\u001b[1;33m\u001b[0m\u001b[1;33m\u001b[0m\u001b[0m\n\u001b[1;32m----> 2\u001b[1;33m \u001b[0mprint\u001b[0m\u001b[1;33m(\u001b[0m\u001b[0mlen\u001b[0m\u001b[1;33m(\u001b[0m\u001b[0mstr\u001b[0m\u001b[1;33m(\u001b[0m\u001b[0ma\u001b[0m\u001b[1;33m)\u001b[0m\u001b[1;33m)\u001b[0m\u001b[1;33m)\u001b[0m\u001b[1;33m\u001b[0m\u001b[1;33m\u001b[0m\u001b[0m\n\u001b[0m",
      "\u001b[1;31mTypeError\u001b[0m: 'str' object is not callable"
     ]
    }
   ],
   "source": [
    "a = 145\n",
    "print(len(str(a)))"
   ]
  },
  {
   "cell_type": "markdown",
   "metadata": {},
   "source": [
    "# Reading input from user "
   ]
  },
  {
   "cell_type": "code",
   "execution_count": null,
   "metadata": {},
   "outputs": [],
   "source": [
    "s1=(\"enter your name\")\n"
   ]
  },
  {
   "cell_type": "code",
   "execution_count": 35,
   "metadata": {},
   "outputs": [
    {
     "name": "stdout",
     "output_type": "stream",
     "text": [
      "print(\"Hello Intro to Python\")\n",
      "print(\"Hello Intro to Python\")\n",
      "print(\"Hello Intro to Python\")\n",
      "print(\"Hello Intro to Python\")\n",
      "print(\"Hello Python\")\n",
      "print(\"Hello Python\")\n",
      "print(\"Object Oriented Programming\")\n",
      "print(\"Hello Python\",end=\"\")\n",
      "print(\"Object Oriented Programming\")\n",
      "print(\"Hello Python\",end=\" \")\n",
      "print(\"Object Oriented Programming\")\n",
      "a = 10\n",
      "a = 10\n",
      "print(a)\n",
      "a = 10\n",
      "print(a)\n",
      "print(type(a))\n",
      "a = 10000\n",
      "print(a)\n",
      "print(type(a))\n",
      "a = 1000000000\n",
      "print(a)\n",
      "print(type(a))\n",
      "a = 10000000000000\n",
      "print(a)\n",
      "print(type(a))\n",
      "a = 10000000000000\n",
      "str = \"Python Programming\"\n",
      "print(a)\n",
      "print(str)\n",
      "print(type(a))\n",
      "print(type(str))\n",
      "a = 10000000000000\n",
      "str = \"Python Programming\"\n",
      "a1 = 100000.44545129892132\n",
      "print(a)\n",
      "print(str)\n",
      "print(a1)\n",
      "print(type(a))\n",
      "print(type(str))\n",
      "print(type(a1))\n",
      "a = 10000000000000\n",
      "print(a)\n",
      "print(type(a))\n",
      "a = 10000000000000\n",
      "print(a)\n",
      "print(type(a))\n",
      "s = str(a)\n",
      "print(s)\n",
      "print(type(s))\n",
      "a = 10000000000000\n",
      "print(a)\n",
      "print(type(a))\n",
      "a = 10000000000000\n",
      "print(a)\n",
      "print(type(a))\n",
      "s = str(a)\n",
      "a = 100\n",
      "print(type(a))\n",
      "s1 = str(a)\n",
      "print(type(s1))\n",
      "a = 100\n",
      "print(type(a))\n",
      "a = 100.123\n",
      "print(type(a))\n",
      "a = 100.123\n",
      "print(type(a))\n",
      "i = float(a)\n",
      "print(type(i))\n",
      "a = 100.123\n",
      "print(type(a))\n",
      "i = float(a)\n",
      "print(type(i))\n",
      "s1 = str(i)\n",
      "print(type(s1))\n",
      "a = 100.123\n",
      "print(type(a))\n",
      "i = float(a)\n",
      "print(type(i))\n",
      "s1 = \"100\"\n",
      "print(type(s1))\n",
      "s1 = \"100\"\n",
      "print(type(s1))\n",
      "i = int(s1)\n",
      "print(type(i))\n",
      "a = 145\n",
      "print(len(str(a)))\n",
      "a = 145\n",
      "print(len(str(a)))\n",
      "a = 145\n",
      "print(len(a))\n",
      "a = 145\n",
      "print(len(int(a)))\n",
      "a = 145\n",
      "print(len(int(a)))\n",
      "a = 145\n",
      "print(len(str(a)))\n",
      "%history\n"
     ]
    }
   ],
   "source": [
    "%history"
   ]
  },
  {
   "cell_type": "markdown",
   "metadata": {},
   "source": [
    "### File Handling\n",
    "- Data Writing\n",
    "- Data Reading\n",
    "- Data Analysis (Word count, Character count)\n",
    "- AppleStore.csv\n",
    "- Higher rating Apps\n",
    "- Lower rating Apps\n",
    "- Free and Paid Apps"
   ]
  },
  {
   "cell_type": "code",
   "execution_count": null,
   "metadata": {},
   "outputs": [],
   "source": [
    "# Functional Programming\n",
    "def funName(<Parameters>):\n",
    "\n",
    "    return\n"
   ]
  },
  {
   "cell_type": "code",
   "execution_count": 37,
   "metadata": {},
   "outputs": [
    {
     "data": {
      "text/plain": [
       "'Hello'"
      ]
     },
     "execution_count": 37,
     "metadata": {},
     "output_type": "execute_result"
    }
   ],
   "source": [
    "def fun1():\n",
    "    return \"Hello\"\n",
    "fun1()"
   ]
  },
  {
   "cell_type": "code",
   "execution_count": 41,
   "metadata": {},
   "outputs": [
    {
     "data": {
      "text/plain": [
       "22"
      ]
     },
     "execution_count": 41,
     "metadata": {},
     "output_type": "execute_result"
    }
   ],
   "source": [
    "def fun2(a,b):\n",
    "    r = a + b\n",
    "    if r>25:\n",
    "        return \"X\"\n",
    "    else:\n",
    "        return \"Y\"\n",
    "    return r\n",
    "fun2(10,12)"
   ]
  },
  {
   "cell_type": "code",
   "execution_count": 40,
   "metadata": {},
   "outputs": [
    {
     "name": "stdout",
     "output_type": "stream",
     "text": [
      "File is created and Data has successfully\n"
     ]
    }
   ],
   "source": [
    "def createFile(filename):\n",
    "    f = open(filename,'w')\n",
    "    for i in range(0,10):\n",
    "        f.write(\"This is %d line \\n\" % i)\n",
    "    print(\"File is created and Data has successfully\")\n",
    "    return\n",
    "createFile('file1.txt')"
   ]
  },
  {
   "cell_type": "code",
   "execution_count": 42,
   "metadata": {},
   "outputs": [
    {
     "name": "stdout",
     "output_type": "stream",
     "text": [
      "File is created and Data has successfully\n"
     ]
    }
   ],
   "source": [
    "def createFile(filename):\n",
    "    f = open(filename,'w')\n",
    "    f.write(\"Something new data\")\n",
    "    print(\"File is created and Data has successfully\")\n",
    "    return\n",
    "createFile('file1.txt')"
   ]
  },
  {
   "cell_type": "code",
   "execution_count": 43,
   "metadata": {},
   "outputs": [
    {
     "name": "stdout",
     "output_type": "stream",
     "text": [
      "File is created and Data has successfully\n"
     ]
    }
   ],
   "source": [
    "def createFile(filename):\n",
    "    f = open(filename,'a')\n",
    "    for i in range(0,10):\n",
    "        f.write(\"This is %d line \\n\" % i)\n",
    "    print(\"File is created and Data has successfully\")\n",
    "    return\n",
    "createFile('file1.txt')"
   ]
  },
  {
   "cell_type": "code",
   "execution_count": 44,
   "metadata": {},
   "outputs": [
    {
     "name": "stdout",
     "output_type": "stream",
     "text": [
      "Something new dataThis is 0 line \n",
      "This is 1 line \n",
      "This is 2 line \n",
      "This is 3 line \n",
      "This is 4 line \n",
      "This is 5 line \n",
      "This is 6 line \n",
      "This is 7 line \n",
      "This is 8 line \n",
      "This is 9 line \n",
      "\n"
     ]
    }
   ],
   "source": [
    "def readFileData(filename):\n",
    "    f = open(filename,'r')\n",
    "    if f.mode == 'r':\n",
    "        x = f.read()\n",
    "        print(x)\n",
    "    return\n",
    "readFileData('file1.txt')"
   ]
  },
  {
   "cell_type": "code",
   "execution_count": 46,
   "metadata": {},
   "outputs": [
    {
     "data": {
      "text/plain": [
       "42"
      ]
     },
     "execution_count": 46,
     "metadata": {},
     "output_type": "execute_result"
    }
   ],
   "source": [
    "# Word Count\n",
    "def wordCount(filename):\n",
    "    #Idomatic Programming of Python\n",
    "    with open(filename,'r') as f:\n",
    "        if f.mode == 'r':\n",
    "            x = f.read()\n",
    "        li = x.split()            \n",
    "    return len(li)\n",
    "wordCount('file1.txt')"
   ]
  },
  {
   "cell_type": "code",
   "execution_count": 54,
   "metadata": {},
   "outputs": [
    {
     "data": {
      "text/plain": [
       "2"
      ]
     },
     "execution_count": 54,
     "metadata": {},
     "output_type": "execute_result"
    }
   ],
   "source": [
    "def wordCount1(filename,word):\n",
    "    with open(filename,'r') as f:\n",
    "        if f.mode == 'r':\n",
    "            x = f.read();\n",
    "        li = x.split()#by using of white space\n",
    "    return li.count(word)\n",
    "wordCount1('file1.txt','Data')"
   ]
  },
  {
   "cell_type": "code",
   "execution_count": 55,
   "metadata": {},
   "outputs": [
    {
     "data": {
      "text/plain": [
       "197"
      ]
     },
     "execution_count": 55,
     "metadata": {},
     "output_type": "execute_result"
    }
   ],
   "source": [
    "# char count\n",
    "def charCount(filename):\n",
    "    with open(filename,'r') as f:\n",
    "        if f.mode == 'r':\n",
    "            x = f.read()\n",
    "        li = list(x)#divide them by seq of chars\n",
    "    return len(li)\n",
    "charCount('file1.txt')"
   ]
  },
  {
   "cell_type": "code",
   "execution_count": null,
   "metadata": {},
   "outputs": [],
   "source": [
    "# Try to find Upper, Lower, digit and Spl character\n",
    "# count from the given input file\n"
   ]
  },
  {
   "cell_type": "code",
   "execution_count": 57,
   "metadata": {},
   "outputs": [
    {
     "ename": "NameError",
     "evalue": "name 'pwd' is not defined",
     "output_type": "error",
     "traceback": [
      "\u001b[1;31m---------------------------------------------------------------------------\u001b[0m",
      "\u001b[1;31mNameError\u001b[0m                                 Traceback (most recent call last)",
      "\u001b[1;32m<ipython-input-57-f3d4c011ce32>\u001b[0m in \u001b[0;36m<module>\u001b[1;34m\u001b[0m\n\u001b[0;32m      1\u001b[0m \u001b[1;31m# AppleStore.csv\u001b[0m\u001b[1;33m\u001b[0m\u001b[1;33m\u001b[0m\u001b[1;33m\u001b[0m\u001b[0m\n\u001b[0;32m      2\u001b[0m \u001b[1;31m# Compute the total number of unique apps in the store\u001b[0m\u001b[1;33m\u001b[0m\u001b[1;33m\u001b[0m\u001b[1;33m\u001b[0m\u001b[0m\n\u001b[1;32m----> 3\u001b[1;33m \u001b[0mpwd\u001b[0m\u001b[1;33m\u001b[0m\u001b[1;33m\u001b[0m\u001b[0m\n\u001b[0m",
      "\u001b[1;31mNameError\u001b[0m: name 'pwd' is not defined"
     ]
    }
   ],
   "source": [
    "# AppleStore.csv\n",
    "# Compute the total number of unique apps in the store\n"
   ]
  },
  {
   "cell_type": "code",
   "execution_count": 58,
   "metadata": {},
   "outputs": [
    {
     "data": {
      "text/plain": [
       "'C:\\\\Users\\\\sys17'"
      ]
     },
     "execution_count": 58,
     "metadata": {},
     "output_type": "execute_result"
    }
   ],
   "source": [
    "pwd"
   ]
  },
  {
   "cell_type": "code",
   "execution_count": 64,
   "metadata": {},
   "outputs": [
    {
     "name": "stdout",
     "output_type": "stream",
     "text": [
      "      Unnamed: 0          id  \\\n",
      "0              1   281656475   \n",
      "1              2   281796108   \n",
      "2              3   281940292   \n",
      "3              4   282614216   \n",
      "4              5   282935706   \n",
      "5              6   283619399   \n",
      "6              7   283646709   \n",
      "7              8   284035177   \n",
      "8              9   284666222   \n",
      "9             10   284736660   \n",
      "10            11   284791396   \n",
      "11            12   284815117   \n",
      "12            13   284815942   \n",
      "13            14   284847138   \n",
      "14            15   284862767   \n",
      "15            16   284876795   \n",
      "16            17   284882215   \n",
      "17            18   284910350   \n",
      "18            20   284993459   \n",
      "19            21   285005463   \n",
      "20            22   285946052   \n",
      "21            23   285994151   \n",
      "22            24   286058814   \n",
      "23            25   286070473   \n",
      "24            27   286799607   \n",
      "25            28   286906691   \n",
      "26            29   286911400   \n",
      "27            31   288113403   \n",
      "28            32   288120394   \n",
      "29            33   288419283   \n",
      "...          ...         ...   \n",
      "7167       10995  1182265441   \n",
      "7168       10998  1182331762   \n",
      "7169       11002  1182568288   \n",
      "7170       11010  1183234072   \n",
      "7171       11013  1183260922   \n",
      "7172       11016  1183548754   \n",
      "7173       11019  1183709176   \n",
      "7174       11022  1183856228   \n",
      "7175       11024  1183986102   \n",
      "7176       11027  1184711626   \n",
      "7177       11031  1184800011   \n",
      "7178       11033  1185209084   \n",
      "7179       11035  1185328193   \n",
      "7180       11036  1185365336   \n",
      "7181       11038  1185428381   \n",
      "7182       11040  1185538497   \n",
      "7183       11041  1185580782   \n",
      "7184       11042  1185731859   \n",
      "7185       11043  1185777521   \n",
      "7186       11050  1186108496   \n",
      "7187       11051  1186126548   \n",
      "7188       11060  1186384912   \n",
      "7189       11074  1187128255   \n",
      "7190       11077  1187279979   \n",
      "7191       11079  1187282363   \n",
      "7192       11081  1187617475   \n",
      "7193       11082  1187682390   \n",
      "7194       11087  1187779532   \n",
      "7195       11089  1187838770   \n",
      "7196       11097  1188375727   \n",
      "\n",
      "                                             track_name  size_bytes currency  \\\n",
      "0                                       PAC-MAN Premium   100788224      USD   \n",
      "1                             Evernote - stay organized   158578688      USD   \n",
      "2       WeatherBug - Local Weather, Radar, Maps, Alerts   100524032      USD   \n",
      "3     eBay: Best App to Buy, Sell, Save! Online Shop...   128512000      USD   \n",
      "4                                                 Bible    92774400      USD   \n",
      "5                                      Shanghai Mahjong    10485713      USD   \n",
      "6                PayPal - Send and request money safely   227795968      USD   \n",
      "7                               Pandora - Music & Radio   130242560      USD   \n",
      "8                           PCalc - The Best Calculator    49250304      USD   \n",
      "9                                           Ms. PAC-MAN    70023168      USD   \n",
      "10                            Solitaire by MobilityWare    49618944      USD   \n",
      "11                                     SCRABBLE Premium   227547136      USD   \n",
      "12                 Google – Search made just for mobile   179979264      USD   \n",
      "13                     Bank of America - Mobile Banking   160925696      USD   \n",
      "14                                             FreeCell    55153664      USD   \n",
      "15               TripAdvisor Hotels Flights Restaurants   207907840      USD   \n",
      "16                                             Facebook   389879808      USD   \n",
      "17       Yelp - Nearby Restaurants, Shopping & Services   167407616      USD   \n",
      "18    Shazam - Discover music, artists, videos & lyrics   147093504      USD   \n",
      "19                        Crash Bandicoot Nitro Kart 3D    10735026      USD   \n",
      "20                                               iQuran    70707916      USD   \n",
      "21                                          :) Sudoku +     6169600      USD   \n",
      "22      Yahoo Sports - Teams, Scores, News & Highlights   130583552      USD   \n",
      "23                            Mileage Log | Fahrtenbuch    71203840      USD   \n",
      "24                          Cleartune - Chromatic Tuner    11423008      USD   \n",
      "25            Lifesum – Inspiring healthy lifestyle app   188017664      USD   \n",
      "26                                             Hangman.     4765696      USD   \n",
      "27        iTranslate - Language Translator & Dictionary   287933440      USD   \n",
      "28                                             TouchOSC     4263936      USD   \n",
      "29                                           RadarScope   172772352      USD   \n",
      "...                                                 ...         ...      ...   \n",
      "7167                      脱出ゲーム　わたしをみつけて　-おじいさんとわたしの物語-   177498112      USD   \n",
      "7168                      Escape from the frigid Igloo.    89188352      USD   \n",
      "7169        Talking Santa - Video santa claus calls you    32685056      USD   \n",
      "7170                                          CTFxCmoji    26077184      USD   \n",
      "7171                    Room Escape Game - Santa's Room   143346688      USD   \n",
      "7172                               Rescue the Enchanter   242505728      USD   \n",
      "7173                                 My Diary - 你的名字非官方    18164736      USD   \n",
      "7174  VR Thrills: Roller Coaster 360 (Google Cardboard)   169535488      USD   \n",
      "7175   Santa Kids Hair Salon - Christmas Makeover Games    64244736      USD   \n",
      "7176                                 Human Juggling Cup   184324096      USD   \n",
      "7177                           Again - room escape game    33946624      USD   \n",
      "7178                                  Saloons Unleashed   327731200      USD   \n",
      "7179             Fam — Group video calling for iMessage   113382400      USD   \n",
      "7180                   Laurie Hernandez the Human Emoji    94008320      USD   \n",
      "7181                                               剑倚手游   178160640      USD   \n",
      "7182                                  camera for filter     9362432      USD   \n",
      "7183                                    Survivalcraft 2    57349120      USD   \n",
      "7184                                    剑客情缘-高爆率高掉落天天疯玩   171944960      USD   \n",
      "7185                                     问仙奇遇-新玩法新套装嗨到爆   208026624      USD   \n",
      "7186                 脱出ゲーム - 書道教室 -  \"漢字\"の謎に満ちた部屋からの 脱出    85580800      USD   \n",
      "7187                          Escape Game: illumination    52342784      USD   \n",
      "7188       Demolition Derby Virtual Reality (VR) Racing   168774656      USD   \n",
      "7189                         飞刀传奇-动作武侠热血江湖即时PK传奇（登录爆金装）   537462784      USD   \n",
      "7190                       Add-Ons Studio for Minecraft    22999040      USD   \n",
      "7191                         Plead the Fifth - The Game    27853824      USD   \n",
      "7192                                              Kubik   126644224      USD   \n",
      "7193                                  VR Roller-Coaster   120760320      USD   \n",
      "7194              Bret Michaels Emojis + Lyric Keyboard   111322112      USD   \n",
      "7195          VR Roller Coaster World - Virtual Reality    97235968      USD   \n",
      "7196                       Escape the Sweet Shop Series    90898432      USD   \n",
      "\n",
      "      price  rating_count_tot  rating_count_ver  user_rating  user_rating_ver  \\\n",
      "0      3.99             21292                26          4.0              4.5   \n",
      "1      0.00            161065                26          4.0              3.5   \n",
      "2      0.00            188583              2822          3.5              4.5   \n",
      "3      0.00            262241               649          4.0              4.5   \n",
      "4      0.00            985920              5320          4.5              5.0   \n",
      "5      0.99              8253              5516          4.0              4.0   \n",
      "6      0.00            119487               879          4.0              4.5   \n",
      "7      0.00           1126879              3594          4.0              4.5   \n",
      "8      9.99              1117                 4          4.5              5.0   \n",
      "9      3.99              7885                40          4.0              4.0   \n",
      "10     4.99             76720              4017          4.5              4.5   \n",
      "11     7.99            105776               166          3.5              2.5   \n",
      "12     0.00            479440               203          3.5              4.0   \n",
      "13     0.00            119773              2336          3.5              4.5   \n",
      "14     4.99              6340               668          4.5              4.5   \n",
      "15     0.00             56194                87          4.0              3.5   \n",
      "16     0.00           2974676               212          3.5              3.5   \n",
      "17     0.00            223885              3726          4.0              4.5   \n",
      "18     0.00            402925               136          4.0              4.5   \n",
      "19     2.99             31456              4178          4.0              3.5   \n",
      "20     1.99              2929               966          4.5              4.5   \n",
      "21     2.99             11447               781          5.0              5.0   \n",
      "22     0.00            137951               131          4.0              4.5   \n",
      "23     5.99                 8                 0          4.5              0.0   \n",
      "24     3.99              3241               297          4.0              4.0   \n",
      "25     0.00              5795                12          3.5              4.0   \n",
      "26     0.00             42316               248          3.0              3.5   \n",
      "27     0.00            123215                25          3.5              5.0   \n",
      "28     4.99               782                 7          4.0              3.5   \n",
      "29     9.99              3449                23          4.0              4.5   \n",
      "...     ...               ...               ...          ...              ...   \n",
      "7167   0.00                 1                 1          1.0              1.0   \n",
      "7168   0.00                 3                 3          4.0              4.0   \n",
      "7169   2.99                 9                 3          3.0              3.5   \n",
      "7170   0.00                39                 4          5.0              5.0   \n",
      "7171   0.00                10                10          5.0              5.0   \n",
      "7172   3.99                55                29          4.5              4.5   \n",
      "7173   0.99                 0                 0          0.0              0.0   \n",
      "7174   0.00                14                 4          4.0              3.5   \n",
      "7175   0.00                41                19          4.5              4.5   \n",
      "7176   0.00                 0                 0          0.0              0.0   \n",
      "7177   0.00                11                 8          4.0              4.0   \n",
      "7178   0.99                 0                 0          0.0              0.0   \n",
      "7179   0.00               279                 5          3.5              3.0   \n",
      "7180   0.00                26                 3          5.0              5.0   \n",
      "7181   0.99                 0                 0          0.0              0.0   \n",
      "7182   0.00                 0                 0          0.0              0.0   \n",
      "7183   3.99               292               292          4.0              4.0   \n",
      "7184   0.00                 0                 0          0.0              0.0   \n",
      "7185   0.99                 0                 0          0.0              0.0   \n",
      "7186   0.00                 1                 1          2.0              2.0   \n",
      "7187   0.00                23                23          4.5              4.5   \n",
      "7188   0.00                18                18          4.0              4.0   \n",
      "7189   0.99                 0                 0          0.0              0.0   \n",
      "7190   2.99                97                97          3.0              3.0   \n",
      "7191   2.99                11                 0          4.0              0.0   \n",
      "7192   0.00               142                75          4.5              4.5   \n",
      "7193   0.00                30                30          4.5              4.5   \n",
      "7194   1.99                15                 0          4.5              0.0   \n",
      "7195   0.00                85                32          4.5              4.5   \n",
      "7196   0.00                 3                 3          5.0              5.0   \n",
      "\n",
      "           ver cont_rating        prime_genre  sup_devices.num  \\\n",
      "0        6.3.5          4+              Games               38   \n",
      "1        8.2.2          4+       Productivity               37   \n",
      "2        5.0.0          4+            Weather               37   \n",
      "3       5.10.0         12+           Shopping               37   \n",
      "4        7.5.1          4+          Reference               37   \n",
      "5          1.8          4+              Games               47   \n",
      "6       6.12.0          4+            Finance               37   \n",
      "7        8.4.1         12+              Music               37   \n",
      "8        3.6.6          4+          Utilities               37   \n",
      "9        4.0.4          4+              Games               38   \n",
      "10      4.10.1          4+              Games               38   \n",
      "11      5.19.0          4+              Games               37   \n",
      "12        27.0         17+          Utilities               37   \n",
      "13       7.3.8          4+            Finance               37   \n",
      "14       4.0.3          4+              Games               38   \n",
      "15        21.1          4+             Travel               37   \n",
      "16        95.0          4+  Social Networking               37   \n",
      "17     11.15.0         12+             Travel               37   \n",
      "18      11.0.3         12+              Music               37   \n",
      "19       1.0.0          4+              Games               47   \n",
      "20         3.3          4+          Reference               43   \n",
      "21       5.2.6          4+              Games               40   \n",
      "22         6.9          4+             Sports               37   \n",
      "23       9.0.5          4+           Business               37   \n",
      "24       2.1.3          4+              Music               43   \n",
      "25       8.4.1          4+   Health & Fitness               37   \n",
      "26       2.0.6          9+              Games               38   \n",
      "27      10.5.4          4+       Productivity               37   \n",
      "28       1.9.8          4+              Music               43   \n",
      "29       3.4.1          4+            Weather               37   \n",
      "...        ...         ...                ...              ...   \n",
      "7167     1.0.1          4+              Games               38   \n",
      "7168     1.0.1          4+              Games               38   \n",
      "7169     1.0.1          4+      Entertainment               37   \n",
      "7170       1.3          9+  Social Networking               37   \n",
      "7171       1.0          4+              Games               40   \n",
      "7172       1.4          4+              Games               40   \n",
      "7173       1.1          4+          Utilities               37   \n",
      "7174     1.3.0          4+              Games               37   \n",
      "7175       1.3          4+              Games               37   \n",
      "7176     1.0.1          4+              Games               40   \n",
      "7177     1.1.0          4+              Games               37   \n",
      "7178       1.1          4+              Games               37   \n",
      "7179    0.6.41          4+  Social Networking               37   \n",
      "7180     1.0.5          9+          Utilities               37   \n",
      "7181       1.0          9+              Games               40   \n",
      "7182     1.0.3          4+      Photo & Video               37   \n",
      "7183  2.0.20.1          9+              Games               40   \n",
      "7184       1.0          9+              Games               40   \n",
      "7185       1.0          9+              Games               38   \n",
      "7186     1.0.1          4+              Games               38   \n",
      "7187       1.0          4+              Games               37   \n",
      "7188     1.0.0         12+              Games               38   \n",
      "7189     2.1.0          9+              Games               38   \n",
      "7190       1.0          4+              Games               37   \n",
      "7191     1.1.1         17+              Games               37   \n",
      "7192       1.3          4+              Games               38   \n",
      "7193       0.9          4+              Games               38   \n",
      "7194     1.0.2          9+          Utilities               37   \n",
      "7195    1.0.15         12+              Games               38   \n",
      "7196       1.0          4+              Games               40   \n",
      "\n",
      "      ipadSc_urls.num  lang.num  vpp_lic  \n",
      "0                   5        10        1  \n",
      "1                   5        23        1  \n",
      "2                   5         3        1  \n",
      "3                   5         9        1  \n",
      "4                   5        45        1  \n",
      "5                   5         1        1  \n",
      "6                   0        19        1  \n",
      "7                   4         1        1  \n",
      "8                   5         1        1  \n",
      "9                   0        10        1  \n",
      "10                  4        11        1  \n",
      "11                  0         6        1  \n",
      "12                  4        33        1  \n",
      "13                  0         2        1  \n",
      "14                  5         2        1  \n",
      "15                  1        26        1  \n",
      "16                  1        29        1  \n",
      "17                  5        18        1  \n",
      "18                  3        16        1  \n",
      "19                  0         1        1  \n",
      "20                  0         2        1  \n",
      "21                  5         1        1  \n",
      "22                  2         6        1  \n",
      "23                  5         3        1  \n",
      "24                  2        10        1  \n",
      "25                  5        11        1  \n",
      "26                  0         1        1  \n",
      "27                  5        23        1  \n",
      "28                  1         1        1  \n",
      "29                  5         1        1  \n",
      "...               ...       ...      ...  \n",
      "7167                4         1        1  \n",
      "7168                5         1        1  \n",
      "7169                0        31        1  \n",
      "7170                1         1        1  \n",
      "7171                0         1        1  \n",
      "7172                5         1        1  \n",
      "7173                0         1        1  \n",
      "7174                5         1        1  \n",
      "7175                5        25        1  \n",
      "7176                4         1        1  \n",
      "7177                5         1        1  \n",
      "7178                5         1        1  \n",
      "7179                4         1        1  \n",
      "7180                4         1        1  \n",
      "7181                5         0        1  \n",
      "7182                0         1        1  \n",
      "7183                5         1        1  \n",
      "7184                5         0        1  \n",
      "7185                5         1        1  \n",
      "7186                5         1        1  \n",
      "7187                5         2        1  \n",
      "7188                4         1        1  \n",
      "7189                5         1        1  \n",
      "7190                5         3        1  \n",
      "7191                0         1        1  \n",
      "7192                5         1        1  \n",
      "7193                0         1        1  \n",
      "7194                1         1        1  \n",
      "7195                0         2        1  \n",
      "7196                0         2        1  \n",
      "\n",
      "[7197 rows x 17 columns]\n"
     ]
    }
   ],
   "source": [
    "import pandas\n",
    "df = pandas.read_csv('Datafiles/AppleStore.csv')\n",
    "u = []\n",
    "for i in range(len(df)):\n",
    "    if df.loc[i][2] not in u:\n",
    "        u.append(df.loc[i][2])\n",
    "print(df)"
   ]
  },
  {
   "cell_type": "code",
   "execution_count": 66,
   "metadata": {},
   "outputs": [
    {
     "name": "stdout",
     "output_type": "stream",
     "text": [
      "Facebook   2974676\n",
      "Instagram   2161558\n",
      "Clash of Clans   2130805\n",
      "Temple Run   1724546\n",
      "Pandora - Music & Radio   1126879\n",
      "Pinterest   1061624\n",
      "Bible   985920\n",
      "Candy Crush Saga   961794\n",
      "Spotify Music   878563\n",
      "Angry Birds   824451\n"
     ]
    }
   ],
   "source": [
    "# Top 10 rated apps\n",
    "df = pandas.read_csv('Datafiles/AppleStore.csv')\n",
    "a = []\n",
    "for i in range(len(df)):\n",
    "    a.append(df.loc[i][6])\n",
    "a.sort(reverse=True)\n",
    "for i in range(0,10):\n",
    "    for j in range(len(df)):\n",
    "        if a[i] == df.loc[j][6]:\n",
    "            print(df.loc[j][2],' ',df.loc[j][6])       \n"
   ]
  },
  {
   "cell_type": "code",
   "execution_count": null,
   "metadata": {},
   "outputs": [],
   "source": []
  },
  {
   "cell_type": "code",
   "execution_count": null,
   "metadata": {},
   "outputs": [],
   "source": []
  },
  {
   "cell_type": "code",
   "execution_count": null,
   "metadata": {},
   "outputs": [],
   "source": []
  }
 ],
 "metadata": {
  "kernelspec": {
   "display_name": "Python 3",
   "language": "python",
   "name": "python3"
  },
  "language_info": {
   "codemirror_mode": {
    "name": "ipython",
    "version": 3
   },
   "file_extension": ".py",
   "mimetype": "text/x-python",
   "name": "python",
   "nbconvert_exporter": "python",
   "pygments_lexer": "ipython3",
   "version": "3.7.3"
  }
 },
 "nbformat": 4,
 "nbformat_minor": 2
}
